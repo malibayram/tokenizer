{
 "cells": [
  {
   "cell_type": "markdown",
   "metadata": {},
   "source": [
    "&nbsp;\n",
    "#### *This file is implementation of the encoder describe at \"guncel_strateji.md\" file.*"
   ]
  },
  {
   "cell_type": "code",
   "execution_count": 147,
   "metadata": {},
   "outputs": [],
   "source": [
    "import json\n",
    "\n",
    "with open(\"./kokler_v02.json\", \"r\") as f:\n",
    "    kokler = json.load(f)\n",
    "    f.close()\n",
    "\n",
    "with open(\"./ekler_v02.json\", \"r\") as f:\n",
    "    ekler = json.load(f)\n",
    "    f.close()\n"
   ]
  },
  {
   "cell_type": "code",
   "execution_count": 148,
   "metadata": {},
   "outputs": [],
   "source": [
    "semantic_tokens = {\"__PLU__\":[\"ler\", \"lar\"],\n",
    "                   \"__ABL__\":[\"den\", \"dan\", \"ten\", \"tan\"],\n",
    "                   \"__LOC__\":[\"de\", \"da\", \"te\", \"ta\"],\n",
    "                   }\n",
    "others = []\n",
    "unknown = \"<UNKNOWN>\"\n",
    "space = \"<SPACE>\""
   ]
  },
  {
   "cell_type": "code",
   "execution_count": 149,
   "metadata": {},
   "outputs": [],
   "source": [
    "def listItem_replacer(list, old, new):\n",
    "    for i in range(len(list)):\n",
    "        if list[i] == old:\n",
    "            list[i] = new\n",
    "    return list"
   ]
  },
  {
   "cell_type": "code",
   "execution_count": 150,
   "metadata": {},
   "outputs": [],
   "source": [
    "def encode_word(word):\n",
    "    encoded_word = []\n",
    "    \n",
    "    if word in kokler:\n",
    "        encode_word.append(kokler[word])\n",
    "    else:\n",
    "        for i in range(len(word)):\n",
    "            if word[:-i] in kokler:\n",
    "                encoded_word.append(kokler[word[:-i]])\n",
    "                suffixes = word[-i:]\n",
    "                break\n",
    "        if suffixes in ekler:\n",
    "                encoded_word.append(ekler[suffixes])\n",
    "        else:\n",
    "            while suffixes:\n",
    "                found = False\n",
    "                for j in range(len(suffixes), 0, -1):\n",
    "                    if suffixes[:j] in ekler:\n",
    "                        encoded_word.append(ekler[suffixes[:j]])\n",
    "                        suffixes = suffixes[j:]\n",
    "                        found = True\n",
    "                        break\n",
    "                if not found:\n",
    "                    break\n",
    "                \n",
    "    for i in range(len(encoded_word)):\n",
    "        for token in semantic_tokens:\n",
    "            if ekler[token] == encoded_word[i]:\n",
    "                encoded_word[i] = token\n",
    "                  \n",
    "    return encoded_word\n",
    "        "
   ]
  },
  {
   "cell_type": "code",
   "execution_count": 154,
   "metadata": {},
   "outputs": [],
   "source": [
    "def encode_word(word):\n",
    "    encoded_word = []\n",
    "    if word in kokler:\n",
    "        encode_word.append(kokler[word])\n",
    "    else:\n",
    "        for i in range(len(word)):\n",
    "            if word[:-i] in kokler:\n",
    "                encoded_word.append(kokler[word[:-i]])\n",
    "                suffixes = word[-i:]\n",
    "                break\n",
    "        if suffixes in ekler:\n",
    "            encoded_word.append(ekler[suffixes])\n",
    "        else:\n",
    "            for token in semantic_tokens:\n",
    "                for i in range(len(token)):\n",
    "                    if token[i] in suffixes:\n",
    "                        suffixes = suffixes.split(token[i])\n",
    "                        if len(suffixes) > 1:\n",
    "                            suffixes = [s for s in suffixes if s]  # remove empty strings\n",
    "                            for part in suffixes:\n",
    "                                if part in semantic_tokens:\n",
    "                                    encoded_word.append(part)\n",
    "                                elif part in ekler:\n",
    "                                    encoded_word.append(ekler[part])\n",
    "                                else:\n",
    "                                    encoded_word.append(unknown)\n",
    "    return encoded_word"
   ]
  },
  {
   "cell_type": "code",
   "execution_count": 155,
   "metadata": {},
   "outputs": [
    {
     "name": "stdout",
     "output_type": "stream",
     "text": [
      "[[2231]]\n"
     ]
    }
   ],
   "source": [
    "print(encode_text(\"merhabalarkida\"))"
   ]
  },
  {
   "cell_type": "code",
   "execution_count": 153,
   "metadata": {},
   "outputs": [
    {
     "name": "stdout",
     "output_type": "stream",
     "text": [
      "<class 'str'>\n",
      "<class 'list'>\n"
     ]
    }
   ],
   "source": [
    "m = \"merhaba\"\n",
    "print(type(m))\n",
    "m = m.split(\"r\")\n",
    "print(type(m))"
   ]
  }
 ],
 "metadata": {
  "kernelspec": {
   "display_name": "Python 3",
   "language": "python",
   "name": "python3"
  },
  "language_info": {
   "codemirror_mode": {
    "name": "ipython",
    "version": 3
   },
   "file_extension": ".py",
   "mimetype": "text/x-python",
   "name": "python",
   "nbconvert_exporter": "python",
   "pygments_lexer": "ipython3",
   "version": "3.12.5"
  }
 },
 "nbformat": 4,
 "nbformat_minor": 2
}
