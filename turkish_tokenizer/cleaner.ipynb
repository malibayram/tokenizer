{
 "cells": [
  {
   "cell_type": "code",
   "execution_count": 1,
   "id": "e1d6dcdb",
   "metadata": {},
   "outputs": [],
   "source": [
    "import json\n",
    "\n",
    "with open(\"bpe_v05.json\", \"r\", encoding=\"utf-8\") as f:\n",
    "    bpe_tokens = json.load(f)\n",
    "\n",
    "with open(\"ekler_v05.json\", \"r\", encoding=\"utf-8\") as f:\n",
    "    suffixes = json.load(f)\n",
    "\n",
    "with open(\"kokler_v07.json\", \"r\", encoding=\"utf-8\") as f:\n",
    "    roots = json.load(f)"
   ]
  },
  {
   "cell_type": "code",
   "execution_count": 2,
   "id": "ce7861a1",
   "metadata": {},
   "outputs": [],
   "source": [
    "roots_keys = set(roots.keys())\n",
    "bpe_keys = set(bpe_tokens.keys())\n",
    "suffixes_keys = set(suffixes.keys())"
   ]
  },
  {
   "cell_type": "code",
   "execution_count": 3,
   "id": "1de5dce8",
   "metadata": {},
   "outputs": [],
   "source": [
    "conflict_root_suffix = roots_keys.intersection(suffixes_keys)\n",
    "conflict_bpe_suffix = bpe_keys.intersection(suffixes_keys)\n",
    "conflict_bpe_roots = bpe_keys.intersection(roots_keys)\n",
    "\n",
    "conflict_all = conflict_root_suffix.intersection(conflict_bpe_suffix.intersection(conflict_bpe_roots))\n",
    "\n",
    "for key in conflict_root_suffix:\n",
    "    del(roots[key])\n",
    "\n",
    "del_from_bpe = conflict_bpe_suffix.union(conflict_bpe_roots) - conflict_all\n",
    "\n",
    "for key in del_from_bpe:\n",
    "    del(bpe_tokens[key])"
   ]
  },
  {
   "cell_type": "code",
   "execution_count": 4,
   "id": "e46103c3",
   "metadata": {},
   "outputs": [],
   "source": [
    "ROOTS_START = 0\n",
    "ROOTS_END   = 22567\n",
    "\n",
    "new_roots = {}\n",
    "current_id = ROOTS_START\n",
    "roots_key_list = list(roots.keys())\n",
    "\n",
    "i = 0\n",
    "while (roots_key_list[i][:4] != \"kok_\" and i < ROOTS_END - ROOTS_START):\n",
    "    if (roots[roots_key_list[i]] != current_id):\n",
    "        current_id += 1\n",
    "    \n",
    "    new_roots[roots_key_list[i]] = current_id\n",
    "    i += 1\n",
    "\n",
    "for i in range(current_id, ROOTS_END + 1):\n",
    "    new_roots[f\"kok_{i}\"] = i\n"
   ]
  },
  {
   "cell_type": "code",
   "execution_count": 5,
   "id": "4c028c15",
   "metadata": {},
   "outputs": [],
   "source": [
    "with open(\"kokler_v08.json\", \"w\", encoding=\"utf-8\") as f:\n",
    "    json.dump(new_roots, f, ensure_ascii=False, indent=2)"
   ]
  },
  {
   "cell_type": "code",
   "execution_count": 6,
   "id": "dd9658a4",
   "metadata": {},
   "outputs": [],
   "source": [
    "BPE_START = 22569\n",
    "BPE_END   = 32767\n",
    "\n",
    "new_bpe = {}\n",
    "current_id = BPE_START\n",
    "bpe_keys_list = list(bpe_tokens.keys())\n",
    "\n",
    "i = 0\n",
    "while (bpe_keys_list[i][:4] != \"bpe_\" and i < BPE_END - BPE_START):\n",
    "    if (bpe_tokens[bpe_keys_list[i]] != current_id):\n",
    "        current_id += 1\n",
    "    \n",
    "    new_bpe[bpe_keys_list[i]] = current_id\n",
    "    i += 1\n",
    "\n",
    "for i in range(current_id, BPE_END + 1):\n",
    "    new_bpe[f\"bpe_{i}\"] = i"
   ]
  },
  {
   "cell_type": "code",
   "execution_count": 7,
   "id": "993129c7",
   "metadata": {},
   "outputs": [],
   "source": [
    "with open(\"bpe_v06.json\", \"w\", encoding=\"utf-8\") as f:\n",
    "    json.dump(new_bpe, f, ensure_ascii=False, indent=2)"
   ]
  }
 ],
 "metadata": {
  "kernelspec": {
   "display_name": "Python 3",
   "language": "python",
   "name": "python3"
  },
  "language_info": {
   "codemirror_mode": {
    "name": "ipython",
    "version": 3
   },
   "file_extension": ".py",
   "mimetype": "text/x-python",
   "name": "python",
   "nbconvert_exporter": "python",
   "pygments_lexer": "ipython3",
   "version": "3.12.3"
  }
 },
 "nbformat": 4,
 "nbformat_minor": 5
}
