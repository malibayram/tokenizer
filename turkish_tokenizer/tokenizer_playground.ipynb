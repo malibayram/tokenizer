{
 "cells": [
  {
   "cell_type": "code",
   "execution_count": 1,
   "metadata": {},
   "outputs": [],
   "source": [
    "import turkish_tokenizer as tt\n",
    "\n",
    "myDict = tt.reverse_dict"
   ]
  },
  {
   "cell_type": "code",
   "execution_count": 2,
   "metadata": {},
   "outputs": [
    {
     "name": "stdout",
     "output_type": "stream",
     "text": [
      "['katık', 'katığ', 'katk']\n",
      "----\n",
      "6682\n",
      "----\n",
      "1\n",
      "['seçik', 'seçiğ', 'seçk']\n",
      "----\n",
      "12761\n",
      "----\n",
      "2\n",
      "['tutuk', 'tutuğ', 'tutk']\n",
      "----\n",
      "15260\n",
      "----\n",
      "3\n",
      "['yı', 'yi', 'yu', 'yü']\n",
      "----\n",
      "22273\n",
      "----\n",
      "4\n",
      "['da', 'de', 'ta', 'te']\n",
      "----\n",
      "22277\n",
      "----\n",
      "5\n",
      "['dan', 'den', 'tan', 'ten']\n",
      "----\n",
      "22278\n",
      "----\n",
      "6\n",
      "['ın', 'in', 'un', 'ün']\n",
      "----\n",
      "22279\n",
      "----\n",
      "7\n",
      "['nın', 'nin', 'nun', 'nün']\n",
      "----\n",
      "22280\n",
      "----\n",
      "8\n",
      "['la', 'le', 'yla', 'yle']\n",
      "----\n",
      "22281\n",
      "----\n",
      "9\n",
      "['ım', 'im', 'um', 'üm']\n",
      "----\n",
      "22282\n",
      "----\n",
      "10\n",
      "['ız', 'iz', 'uz', 'üz']\n",
      "----\n",
      "22285\n",
      "----\n",
      "11\n",
      "['sı', 'si', 'su', 'sü']\n",
      "----\n",
      "22286\n",
      "----\n",
      "12\n",
      "['mak', 'mek', 'may', 'mey']\n",
      "----\n",
      "22287\n",
      "----\n",
      "13\n",
      "['acak', 'ecek', 'acağ', 'eceğ', 'yacak', 'yecek', 'yacağ', 'yeceğ']\n",
      "----\n",
      "22290\n",
      "----\n",
      "14\n",
      "['dı', 'di', 'du', 'dü', 'tı', 'ti', 'tu', 'tü']\n",
      "----\n",
      "22296\n",
      "----\n",
      "15\n",
      "['mış', 'miş', 'muş', 'müş']\n",
      "----\n",
      "22297\n",
      "----\n",
      "16\n",
      "['lık', 'lik', 'luk', 'lük', 'lığ', 'liğ', 'luğ', 'lüğ']\n",
      "----\n",
      "22299\n",
      "----\n",
      "17\n",
      "['cı', 'ci', 'cu', 'cü', 'çı', 'çi', 'çu', 'çü']\n",
      "----\n",
      "22300\n",
      "----\n",
      "18\n",
      "['cık', 'cik', 'cuk', 'cük', 'çık', 'çik', 'çuk', 'çük', 'cığ', 'ciğ', 'cuğ', 'cüğ', 'çığ', 'çiğ', 'çuğ', 'çüğ']\n",
      "----\n",
      "22302\n",
      "----\n",
      "19\n",
      "['dır', 'dir', 'dur', 'dür', 'tır', 'tir', 'tur', 'tür']\n",
      "----\n",
      "22317\n",
      "----\n",
      "20\n",
      "['lı', 'li', 'lu', 'lü']\n",
      "----\n",
      "22324\n",
      "----\n",
      "21\n",
      "['sız', 'siz', 'suz', 'süz']\n",
      "----\n",
      "22325\n",
      "----\n",
      "22\n",
      "['ncı', 'nci', 'ncü']\n",
      "----\n",
      "22326\n",
      "----\n",
      "23\n"
     ]
    }
   ],
   "source": [
    "count = 0\n",
    "for id in myDict:\n",
    "    if len(myDict[id]) > 2:\n",
    "        count += 1\n",
    "        print(myDict[id])\n",
    "        print(\"----\")\n",
    "        print(id)\n",
    "        print(\"----\")\n",
    "        print(count)"
   ]
  },
  {
   "cell_type": "code",
   "execution_count": 3,
   "metadata": {},
   "outputs": [
    {
     "data": {
      "text/plain": [
       "32274"
      ]
     },
     "execution_count": 3,
     "metadata": {},
     "output_type": "execute_result"
    }
   ],
   "source": [
    "len(myDict)"
   ]
  },
  {
   "cell_type": "code",
   "execution_count": 4,
   "metadata": {},
   "outputs": [
    {
     "data": {
      "text/plain": [
       "[2036, 1, 224, 1, 171, 22286, 22284]"
      ]
     },
     "execution_count": 4,
     "metadata": {},
     "output_type": "execute_result"
    }
   ],
   "source": [
    "myids = tt.tokenize(\"merhaba dünya nasılsın\")[\"ids\"]\n",
    "myids"
   ]
  },
  {
   "cell_type": "code",
   "execution_count": 5,
   "metadata": {},
   "outputs": [
    {
     "name": "stdout",
     "output_type": "stream",
     "text": [
      "['pırlanta']\n",
      "['merhaba']\n",
      "['sı', 'si', 'su', 'sü']\n"
     ]
    }
   ],
   "source": [
    "print(myDict[4536])\n",
    "print(myDict[2036])\n",
    "print(myDict[22286])"
   ]
  },
  {
   "cell_type": "code",
   "execution_count": 6,
   "metadata": {},
   "outputs": [
    {
     "data": {
      "text/plain": [
       "['pırlanta']"
      ]
     },
     "execution_count": 6,
     "metadata": {},
     "output_type": "execute_result"
    }
   ],
   "source": [
    "myDict[4536]"
   ]
  },
  {
   "cell_type": "code",
   "execution_count": 7,
   "metadata": {},
   "outputs": [],
   "source": [
    "\n",
    "def first_vowel(word):\n",
    "    for i in range(len(word)):\n",
    "        if word[i] in vowels:\n",
    "            return i\n",
    "    return -1\n",
    "\n",
    "\n",
    "def suffix_i_to_i(word):\n",
    "    variations = [word]\n",
    "    variations.append(word[:first_vowel(word)] + \"i\" + word[first_vowel(word)+1:])\n",
    "    variations.append(word[:first_vowel(word)] + \"ı\" + word[first_vowel(word)+1:])\n",
    "    variations.append(word[:first_vowel(word)] + \"u\" + word[first_vowel(word)+1:])\n",
    "    variations.append(word[:first_vowel(word)] + \"ü\" + word[first_vowel(word)+1:])\n",
    "    variations = list(set(variations))\n",
    "    return variations"
   ]
  },
  {
   "cell_type": "code",
   "execution_count": 8,
   "metadata": {},
   "outputs": [
    {
     "data": {
      "text/plain": [
       "['dunya', 'dünya', 'dınya', 'dinya']"
      ]
     },
     "execution_count": 8,
     "metadata": {},
     "output_type": "execute_result"
    }
   ],
   "source": [
    "vowels = [\"a\", \"e\", \"ı\", \"i\", \"o\", \"ö\", \"u\", \"ü\"]\n",
    "suffix_i_to_i(\"dünya\")"
   ]
  },
  {
   "cell_type": "code",
   "execution_count": 9,
   "metadata": {},
   "outputs": [
    {
     "data": {
      "text/plain": [
       "'ü'"
      ]
     },
     "execution_count": 9,
     "metadata": {},
     "output_type": "execute_result"
    }
   ],
   "source": [
    "sa = [\"merhaba\", \"dünya\", \"nasılsın\"]\n",
    "sa[1][first_vowel(sa[1])]"
   ]
  },
  {
   "cell_type": "code",
   "execution_count": null,
   "metadata": {},
   "outputs": [],
   "source": []
  },
  {
   "cell_type": "code",
   "execution_count": 10,
   "metadata": {},
   "outputs": [
    {
     "data": {
      "text/plain": [
       "'merhaba<space>dünya<space>nasılsın'"
      ]
     },
     "execution_count": 10,
     "metadata": {},
     "output_type": "execute_result"
    }
   ],
   "source": [
    "tt.decode_text(myids)"
   ]
  }
 ],
 "metadata": {
  "kernelspec": {
   "display_name": "Python 3",
   "language": "python",
   "name": "python3"
  },
  "language_info": {
   "codemirror_mode": {
    "name": "ipython",
    "version": 3
   },
   "file_extension": ".py",
   "mimetype": "text/x-python",
   "name": "python",
   "nbconvert_exporter": "python",
   "pygments_lexer": "ipython3",
   "version": "3.12.5"
  }
 },
 "nbformat": 4,
 "nbformat_minor": 2
}
