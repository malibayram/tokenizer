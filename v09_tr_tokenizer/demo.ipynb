{
 "cells": [
  {
   "cell_type": "code",
   "execution_count": 3,
   "id": "b21cc8a3",
   "metadata": {},
   "outputs": [
    {
     "name": "stdout",
     "output_type": "stream",
     "text": [
      "\u001b[34m__pycache__\u001b[m\u001b[m/       demo.ipynb         kokler.json        tr_tokenizer.py\n",
      "bpe_tokenler.json  ekler.json         tr_decoder.py\n"
     ]
    }
   ],
   "source": [
    "%ls"
   ]
  },
  {
   "cell_type": "code",
   "execution_count": 1,
   "id": "b8c31e6e",
   "metadata": {},
   "outputs": [
    {
     "data": {
      "text/plain": [
       "[3,\n",
       " 0,\n",
       " 2697,\n",
       " 2,\n",
       " 0,\n",
       " 2212,\n",
       " 2,\n",
       " 0,\n",
       " 2794,\n",
       " 1,\n",
       " 2,\n",
       " 18194,\n",
       " 20043,\n",
       " 2,\n",
       " 6766,\n",
       " 20000,\n",
       " 2,\n",
       " 17321,\n",
       " 20000,\n",
       " 2,\n",
       " 20024,\n",
       " 2,\n",
       " 2595,\n",
       " 20024,\n",
       " 2,\n",
       " 2627,\n",
       " 2,\n",
       " 20024,\n",
       " 2,\n",
       " 3045,\n",
       " 20024,\n",
       " 2,\n",
       " 227,\n",
       " 20024,\n",
       " 2,\n",
       " 227,\n",
       " 15247,\n",
       " 2,\n",
       " 2656,\n",
       " 10572,\n",
       " 2,\n",
       " 2503,\n",
       " 2,\n",
       " 2599,\n",
       " 20038,\n",
       " 3,\n",
       " 3,\n",
       " 2,\n",
       " 165,\n",
       " 20021,\n",
       " 20035,\n",
       " 2,\n",
       " 20064,\n",
       " 4373,\n",
       " 20002,\n",
       " 3,\n",
       " 0,\n",
       " 165,\n",
       " 2,\n",
       " 165,\n",
       " 20037,\n",
       " 2,\n",
       " 2501,\n",
       " 2,\n",
       " 3303,\n",
       " 4,\n",
       " 2502,\n",
       " 20026,\n",
       " 3,\n",
       " 2]"
      ]
     },
     "execution_count": 1,
     "metadata": {},
     "output_type": "execute_result"
    }
   ],
   "source": [
    "from tr_tokenizer import TRTokenizer\n",
    "\n",
    "tokenizer = TRTokenizer()\n",
    "\n",
    "text = \"\"\"\n",
    "Ali Ata Bak▁ aliler ahmetler selmanlar da bizde onlar da testte kitapta kitabını okudum bu işe\n",
    " \n",
    " burnunu sokma\n",
    "Burun buruna bir kaza\\toldu\n",
    " \"\"\"\n",
    "ids = tokenizer.encode(text)\n",
    "ids"
   ]
  }
 ],
 "metadata": {
  "kernelspec": {
   "display_name": "Python 3",
   "language": "python",
   "name": "python3"
  },
  "language_info": {
   "codemirror_mode": {
    "name": "ipython",
    "version": 3
   },
   "file_extension": ".py",
   "mimetype": "text/x-python",
   "name": "python",
   "nbconvert_exporter": "python",
   "pygments_lexer": "ipython3",
   "version": "3.13.3"
  }
 },
 "nbformat": 4,
 "nbformat_minor": 5
}
